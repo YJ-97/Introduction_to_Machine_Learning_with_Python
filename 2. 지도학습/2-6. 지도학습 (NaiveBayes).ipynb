{
 "cells": [
  {
   "cell_type": "code",
   "execution_count": 1,
   "metadata": {},
   "outputs": [],
   "source": [
    "import numpy as np"
   ]
  },
  {
   "cell_type": "markdown",
   "metadata": {},
   "source": [
    "#### 나이브 베이즈 분류기\n",
    "\n",
    "- 앞 절의 선형 모델과 매우 유사\n",
    "\n",
    "- LinearRegression 이나 LinearSVC 보다 훈련 속도가 빠른 편이지만 일반화 성능이 조금 떨어진다.\n",
    "- scikit-learn에는 GaussianNB, BernoulliNB, MultinomialNB 3가지가 존재\n",
    "- GaussianNB는 연속적인 어떤 데이터에도 사용 가능, BernoulliNB는 이진 데이터에, MultinomialNB는 카운터 데이터에 적용\n",
    "- BernoulliNB, MultinomialNB는 대부분 텍스트 분류에 사용"
   ]
  },
  {
   "cell_type": "code",
   "execution_count": 2,
   "metadata": {},
   "outputs": [
    {
     "name": "stdout",
     "output_type": "stream",
     "text": [
      "특성 카운트 : \n",
      " {0: array([0, 1, 0, 2]), 1: array([2, 0, 2, 1])}\n"
     ]
    }
   ],
   "source": [
    "# BernoulliNB 예시\n",
    "\n",
    "X = np.array([[0, 1, 0, 1],\n",
    "            [1, 0, 1, 1],\n",
    "            [0, 0, 0, 1],\n",
    "            [1, 0, 1, 0]])\n",
    "\n",
    "y = np.array([0, 1, 0, 1])\n",
    "\n",
    "counts = {}\n",
    "\n",
    "for label in np.unique(y):\n",
    "    # 각 클래스에 대해 반복\n",
    "    # 특성마다 1이 나타난 횟수를 센다\n",
    "    counts[label] = X[y==label].sum(axis=0)\n",
    "print(f'특성 카운트 : \\n {counts}')"
   ]
  },
  {
   "cell_type": "markdown",
   "metadata": {},
   "source": [
    "- MutinomailNB와 GaussianNB는 계산하는 통계 데이터의 종류가 다르다.\n",
    "\n",
    "- MultinomailNb는 클래스별 특성의 평균, GaussianNB는 클래스별 각 특성의 표준편차와 평균을 저장\n",
    "- 예측할 땐 데이터 포인트의 클래스 통계 값과 비교해서 가장 잘 맞는 클래스를 예측값으로 한다.\n",
    "- 두 모델의 예측 공식은 선형 모델의 형태와 같으나 나이브 베이즈 모델의 coef_는 기울기 w가 아니라서 의미가 다르다."
   ]
  },
  {
   "cell_type": "markdown",
   "metadata": {},
   "source": [
    "#### 장단점과 매개변수\n",
    "- MutinomialNb와 BernouliNB는 모델의 복잡도를 조절하는 alpha 매개변수 하나를 갖는다.\n",
    "\n",
    "- alpha가 주어지면 알고리즘이 모든 특성에 양의 값을 가진 가상의 데이터 포인트를 alpha 개수만큼 추가. 이것은 통계 데이터를 완만하게 만든다.\n",
    "- alpha가 크면 더 완만해지고 모델의 복잡도는 낮아진다. alpha를 조정하면 어느정도 정확도를 높일 수 있지만 성능 향상에 크게 기여하지는 않는다.\n",
    "- GaussianNb는 매우 고차원인 데이터에 주로 사용하고 나머지 두 모델은 텍스트 같은 희소한 데이터 카운트에 쓰인다.\n",
    "- MultinomialNB는 큰 문서들에서 BernouliNB보다 성능이 높다.\n",
    "- 선형 모델과 비슷한 장단점. 훈련과 예측이 빠르며 과정을 이해하기 쉽고 고차원 데이터에서 잘 작동하며 매개변수에 민감하지 않다.\n",
    "- 선형 모델로는 학습이 오래걸리는 큰 데이터 셋 같은 경우는 나이브 베이즈 모델을 시도해볼만 하다.\n"
   ]
  }
 ],
 "metadata": {
  "kernelspec": {
   "display_name": "Python 3.8.0 64-bit",
   "language": "python",
   "name": "python3"
  },
  "language_info": {
   "codemirror_mode": {
    "name": "ipython",
    "version": 3
   },
   "file_extension": ".py",
   "mimetype": "text/x-python",
   "name": "python",
   "nbconvert_exporter": "python",
   "pygments_lexer": "ipython3",
   "version": "3.8.0"
  },
  "orig_nbformat": 4,
  "vscode": {
   "interpreter": {
    "hash": "c2e55c9285be7209c352033cdce09d8fd6005e5e0666f201e74b15d445dd77cd"
   }
  }
 },
 "nbformat": 4,
 "nbformat_minor": 2
}
