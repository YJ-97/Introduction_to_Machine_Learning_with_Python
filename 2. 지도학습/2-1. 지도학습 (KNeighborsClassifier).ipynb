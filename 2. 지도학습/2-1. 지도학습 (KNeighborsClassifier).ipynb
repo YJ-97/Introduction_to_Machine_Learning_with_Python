{
 "cells": [
  {
   "cell_type": "code",
   "execution_count": 54,
   "id": "08910ea0",
   "metadata": {},
   "outputs": [],
   "source": [
    "import sklearn\n",
    "import mglearn\n",
    "import numpy as np\n",
    "import pandas as pd\n",
    "import matplotlib.pyplot as plt\n",
    "import warnings\n",
    "\n",
    "from sklearn.neighbors import KNeighborsClassifier\n",
    "from sklearn.model_selection import train_test_split\n",
    "from sklearn.datasets import load_breast_cancer, load_boston\n",
    "warnings.filterwarnings('ignore')"
   ]
  },
  {
   "cell_type": "markdown",
   "id": "cd51e43f",
   "metadata": {},
   "source": [
    "## 지도학습\n",
    "\n",
    "### 지도학습의 종류\n",
    "\n",
    "지도학습은 예측하려는 데이터의 형태에 따라 달라진다. \n",
    "예측하려는 대상이 연속형일 경우 회귀를, 예측하려는 대상이 이산형일 경우는 분류를 사용한다.\n",
    "\n",
    "#### 1. 회귀\n",
    "연속적인 숫자, 또는 프로그래밍 용어로 말하면 부동소수점수(실수)를 예측하는 것.\n",
    "\n",
    "#### 2. 분류\n",
    "미리 정의된, 가능성 있는 여러 클래스 레이블 중 하나를 예측하는 것.\n",
    "딱 두 개의 클래스로 분류하는 이진 분류와 셋 이상의 클래스로 분류하는 다중 분류로 나뉜다."
   ]
  },
  {
   "cell_type": "markdown",
   "id": "118bc441",
   "metadata": {},
   "source": [
    "------------"
   ]
  },
  {
   "cell_type": "markdown",
   "id": "8a93a75a",
   "metadata": {},
   "source": [
    "### 일반화, 과대적합, 과소적합\n",
    "\n",
    "#### 일반화\n",
    "- 지도학습에서 훈련데이터로 학습한 모델이 처음 보는  데이터에 대해 정확하게 예측할 수 있으면\n",
    "훈련세트에서 테스트 세트로 일반화 되었다고 한다.\n",
    "\n",
    "#### 과대적합\n",
    "- 만약 가진 정보를 모두 사용해서 모델이 너무 복잡한 경우 (규칙이 너무 많은 경우) \n",
    "모델이 훈련 세트의 각 샘플에 너무 가깝게 맞춰져서 새로운 데이터에 일반화되기 어려울 때 \n",
    "과대적합 이라고 한다.\n",
    "\n",
    "#### 과소적합\n",
    "- 반대로 모델이 너무 간단한 경우 (ex. 집이 있는 사람은 모두 요트를 산다.)와 같은 경우는\n",
    "모델이 데이터의 면면과 다양성을 잡아내지 못하고 \n",
    "- 테스트 데이터뿐만 아니라 훈련 데이터에서도\n",
    "맞지 않을 것이며 이렇게 너무 간단한 모델이 선택되는 것을 과소적합이라고 한다"
   ]
  },
  {
   "cell_type": "markdown",
   "id": "1e2d8415",
   "metadata": {},
   "source": [
    "------------"
   ]
  },
  {
   "cell_type": "markdown",
   "id": "b99c6191",
   "metadata": {},
   "source": [
    "### 지도학습 알고리즘"
   ]
  },
  {
   "cell_type": "code",
   "execution_count": 12,
   "id": "e167eb50",
   "metadata": {},
   "outputs": [
    {
     "data": {
      "text/plain": [
       "Text(0.5, 0, '첫 번째 특성')"
      ]
     },
     "execution_count": 12,
     "metadata": {},
     "output_type": "execute_result"
    },
    {
     "data": {
      "image/png": "[encoded data removed]",
      "text/plain": [
       "<Figure size 432x288 with 1 Axes>"
      ]
     },
     "metadata": {
      "needs_background": "light"
     },
     "output_type": "display_data"
    }
   ],
   "source": [
    "## 분류 예제에 사용할 데이터셋\n",
    "## forge 데이터셋은 이진 분류를 위해 인위적으로 만든 두 개의 특성을 가진 데이터 셋\n",
    "X, y = mglearn.datasets.make_forge()\n",
    "\n",
    "## 산점도\n",
    "mglearn.discrete_scatter(X[:,0], X[:,1], y)\n",
    "plt.legend(['클래스 0', '클래스 1'], loc=4)\n",
    "plt.xlabel('첫 번째 특성')"
   ]
  },
  {
   "cell_type": "code",
   "execution_count": 13,
   "id": "dcc5559f",
   "metadata": {},
   "outputs": [
    {
     "data": {
      "text/plain": [
       "Text(0, 0.5, '타깃')"
      ]
     },
     "execution_count": 13,
     "metadata": {},
     "output_type": "execute_result"
    },
    {
     "data": {
      "image/png": "[encoded data removed]",
      "text/plain": [
       "<Figure size 432x288 with 1 Axes>"
      ]
     },
     "metadata": {
      "needs_background": "light"
     },
     "output_type": "display_data"
    }
   ],
   "source": [
    "## 회귀 예제에 사용할 데이터셋\n",
    "X, y = mglearn.datasets.make_wave(n_samples=40)\n",
    "plt.plot(X, y, 'o')\n",
    "plt.ylim(-3, 3)\n",
    "plt.xlabel('특성')\n",
    "plt.ylabel('타깃')"
   ]
  },
  {
   "cell_type": "code",
   "execution_count": 19,
   "id": "6e7c29fa",
   "metadata": {},
   "outputs": [
    {
     "name": "stdout",
     "output_type": "stream",
     "text": [
      "cancer.keys():\n",
      " dict_keys(['data', 'target', 'frame', 'target_names', 'DESCR', 'feature_names', 'filename', 'data_module'])\n"
     ]
    }
   ],
   "source": [
    "## 유방암 종양의 임상 데이터를 기록해놓은 위스콘신 유방암 데이터셋\n",
    "## 분류 데이터\n",
    "cancer = load_breast_cancer()\n",
    "print(\"cancer.keys():\\n\", cancer.keys())"
   ]
  },
  {
   "cell_type": "code",
   "execution_count": 20,
   "id": "7bb44fc6",
   "metadata": {},
   "outputs": [
    {
     "name": "stdout",
     "output_type": "stream",
     "text": [
      "유방암 데이터의 형태: (569, 30)\n"
     ]
    }
   ],
   "source": [
    "print('유방암 데이터의 형태:', cancer.data.shape)"
   ]
  },
  {
   "cell_type": "code",
   "execution_count": 21,
   "id": "e23ee2f1",
   "metadata": {},
   "outputs": [
    {
     "name": "stdout",
     "output_type": "stream",
     "text": [
      "클래스별 샘플 개수:\n",
      " {'malignant': 212, 'benign': 357}\n"
     ]
    }
   ],
   "source": [
    "## np.bincount : numpy 배열 내부에 제공된 각 요소의 빈도를 얻는 데 사용되는 메서드\n",
    "print('클래스별 샘플 개수:\\n', {n:v for n,v in zip(cancer.target_names, np.bincount(cancer.target))})"
   ]
  },
  {
   "cell_type": "code",
   "execution_count": 24,
   "id": "be82d356",
   "metadata": {},
   "outputs": [
    {
     "name": "stdout",
     "output_type": "stream",
     "text": [
      "특성 이름:\n",
      " ['mean radius' 'mean texture' 'mean perimeter' 'mean area'\n",
      " 'mean smoothness' 'mean compactness' 'mean concavity'\n",
      " 'mean concave points' 'mean symmetry' 'mean fractal dimension'\n",
      " 'radius error' 'texture error' 'perimeter error' 'area error'\n",
      " 'smoothness error' 'compactness error' 'concavity error'\n",
      " 'concave points error' 'symmetry error' 'fractal dimension error'\n",
      " 'worst radius' 'worst texture' 'worst perimeter' 'worst area'\n",
      " 'worst smoothness' 'worst compactness' 'worst concavity'\n",
      " 'worst concave points' 'worst symmetry' 'worst fractal dimension']\n"
     ]
    }
   ],
   "source": [
    "print('특성 이름:\\n', cancer.feature_names)"
   ]
  },
  {
   "cell_type": "code",
   "execution_count": 29,
   "id": "c2fa1458",
   "metadata": {},
   "outputs": [
    {
     "name": "stdout",
     "output_type": "stream",
     "text": [
      "데이터의 형태: (506, 13)\n"
     ]
    }
   ],
   "source": [
    "## 범죄율, 찰스강 인접도 등으로 보스턴 주변 주택 평균 가격 예측하는 보스턴 주택가격 데이터\n",
    "## 회귀용 데이터\n",
    "boston = load_boston()\n",
    "print('데이터의 형태:',boston.data.shape)"
   ]
  },
  {
   "cell_type": "code",
   "execution_count": 32,
   "id": "9bc6415d",
   "metadata": {},
   "outputs": [
    {
     "name": "stdout",
     "output_type": "stream",
     "text": [
      "X.shape: (506, 104)\n"
     ]
    }
   ],
   "source": [
    "## boston 데이터에서 확장한? 추가적으로 특성을 유도해낸 데이터 셋 (특성 공학)\n",
    "## 이후 4장에서 자세하게 다룬다.\n",
    "X, y = mglearn.datasets.load_extended_boston()\n",
    "print(f'X.shape: {X.shape}')"
   ]
  },
  {
   "cell_type": "markdown",
   "id": "a2e8c2c4",
   "metadata": {},
   "source": [
    "### k-최근접 이웃\n",
    "\n",
    "가장 가까운 훈련 데이터 포인트 하나를 최근접 이웃으로 찾아 예측에 사용한다."
   ]
  },
  {
   "cell_type": "code",
   "execution_count": 33,
   "id": "7d48939b",
   "metadata": {},
   "outputs": [
    {
     "data": {
      "image/png": "[encoded data removed]",
      "text/plain": [
       "<Figure size 432x288 with 1 Axes>"
      ]
     },
     "metadata": {
      "needs_background": "light"
     },
     "output_type": "display_data"
    }
   ],
   "source": [
    "## 데이터 포인트 3개를 추가하고 가까운 이웃 1개에 따라 레이블을 정한 그림\n",
    "mglearn.plots.plot_knn_classification(n_neighbors=1)"
   ]
  },
  {
   "cell_type": "code",
   "execution_count": 34,
   "id": "98ae17c6",
   "metadata": {},
   "outputs": [
    {
     "data": {
      "image/png": "[encoded data removed]",
      "text/plain": [
       "<Figure size 432x288 with 1 Axes>"
      ]
     },
     "metadata": {
      "needs_background": "light"
     },
     "output_type": "display_data"
    }
   ],
   "source": [
    "## 데이터 포인트 3개를 추가하고 가까운 이웃 3개에 따라 레이블을 정한 그림\n",
    "mglearn.plots.plot_knn_classification(n_neighbors=3)"
   ]
  },
  {
   "cell_type": "code",
   "execution_count": 37,
   "id": "785fe6d1",
   "metadata": {},
   "outputs": [],
   "source": [
    "## sklearn을 사용해서 k-최근접 이웃 알고리즘 적용\n",
    "X, y = mglearn.datasets.make_forge()\n",
    "\n",
    "x_train, x_test, y_train, y_test = train_test_split(X, y, random_state=0)"
   ]
  },
  {
   "cell_type": "code",
   "execution_count": 38,
   "id": "2108c547",
   "metadata": {},
   "outputs": [
    {
     "data": {
      "text/html": [
       "<style>#sk-container-id-1 {color: black;background-color: white;}#sk-container-id-1 pre{padding: 0;}#sk-container-id-1 div.sk-toggleable {background-color: white;}#sk-container-id-1 label.sk-toggleable__label {cursor: pointer;display: block;width: 100%;margin-bottom: 0;padding: 0.3em;box-sizing: border-box;text-align: center;}#sk-container-id-1 label.sk-toggleable__label-arrow:before {content: \"▸\";float: left;margin-right: 0.25em;color: #696969;}#sk-container-id-1 label.sk-toggleable__label-arrow:hover:before {color: black;}#sk-container-id-1 div.sk-estimator:hover label.sk-toggleable__label-arrow:before {color: black;}#sk-container-id-1 div.sk-toggleable__content {max-height: 0;max-width: 0;overflow: hidden;text-align: left;background-color: #f0f8ff;}#sk-container-id-1 div.sk-toggleable__content pre {margin: 0.2em;color: black;border-radius: 0.25em;background-color: #f0f8ff;}#sk-container-id-1 input.sk-toggleable__control:checked~div.sk-toggleable__content {max-height: 200px;max-width: 100%;overflow: auto;}#sk-container-id-1 input.sk-toggleable__control:checked~label.sk-toggleable__label-arrow:before {content: \"▾\";}#sk-container-id-1 div.sk-estimator input.sk-toggleable__control:checked~label.sk-toggleable__label {background-color: #d4ebff;}#sk-container-id-1 div.sk-label input.sk-toggleable__control:checked~label.sk-toggleable__label {background-color: #d4ebff;}#sk-container-id-1 input.sk-hidden--visually {border: 0;clip: rect(1px 1px 1px 1px);clip: rect(1px, 1px, 1px, 1px);height: 1px;margin: -1px;overflow: hidden;padding: 0;position: absolute;width: 1px;}#sk-container-id-1 div.sk-estimator {font-family: monospace;background-color: #f0f8ff;border: 1px dotted black;border-radius: 0.25em;box-sizing: border-box;margin-bottom: 0.5em;}#sk-container-id-1 div.sk-estimator:hover {background-color: #d4ebff;}#sk-container-id-1 div.sk-parallel-item::after {content: \"\";width: 100%;border-bottom: 1px solid gray;flex-grow: 1;}#sk-container-id-1 div.sk-label:hover label.sk-toggleable__label {background-color: #d4ebff;}#sk-container-id-1 div.sk-serial::before {content: \"\";position: absolute;border-left: 1px solid gray;box-sizing: border-box;top: 0;bottom: 0;left: 50%;z-index: 0;}#sk-container-id-1 div.sk-serial {display: flex;flex-direction: column;align-items: center;background-color: white;padding-right: 0.2em;padding-left: 0.2em;position: relative;}#sk-container-id-1 div.sk-item {position: relative;z-index: 1;}#sk-container-id-1 div.sk-parallel {display: flex;align-items: stretch;justify-content: center;background-color: white;position: relative;}#sk-container-id-1 div.sk-item::before, #sk-container-id-1 div.sk-parallel-item::before {content: \"\";position: absolute;border-left: 1px solid gray;box-sizing: border-box;top: 0;bottom: 0;left: 50%;z-index: -1;}#sk-container-id-1 div.sk-parallel-item {display: flex;flex-direction: column;z-index: 1;position: relative;background-color: white;}#sk-container-id-1 div.sk-parallel-item:first-child::after {align-self: flex-end;width: 50%;}#sk-container-id-1 div.sk-parallel-item:last-child::after {align-self: flex-start;width: 50%;}#sk-container-id-1 div.sk-parallel-item:only-child::after {width: 0;}#sk-container-id-1 div.sk-dashed-wrapped {border: 1px dashed gray;margin: 0 0.4em 0.5em 0.4em;box-sizing: border-box;padding-bottom: 0.4em;background-color: white;}#sk-container-id-1 div.sk-label label {font-family: monospace;font-weight: bold;display: inline-block;line-height: 1.2em;}#sk-container-id-1 div.sk-label-container {text-align: center;}#sk-container-id-1 div.sk-container {/* jupyter's `normalize.less` sets `[hidden] { display: none; }` but bootstrap.min.css set `[hidden] { display: none !important; }` so we also need the `!important` here to be able to override the default hidden behavior on the sphinx rendered scikit-learn.org. See: https://github.com/scikit-learn/scikit-learn/issues/21755 */display: inline-block !important;position: relative;}#sk-container-id-1 div.sk-text-repr-fallback {display: none;}</style><div id=\"sk-container-id-1\" class=\"sk-top-container\"><div class=\"sk-text-repr-fallback\"><pre>KNeighborsClassifier(n_neighbors=3)</pre><b>In a Jupyter environment, please rerun this cell to show the HTML representation or trust the notebook. <br />On GitHub, the HTML representation is unable to render, please try loading this page with nbviewer.org.</b></div><div class=\"sk-container\" hidden><div class=\"sk-item\"><div class=\"sk-estimator sk-toggleable\"><input class=\"sk-toggleable__control sk-hidden--visually\" id=\"sk-estimator-id-1\" type=\"checkbox\" checked><label for=\"sk-estimator-id-1\" class=\"sk-toggleable__label sk-toggleable__label-arrow\">KNeighborsClassifier</label><div class=\"sk-toggleable__content\"><pre>KNeighborsClassifier(n_neighbors=3)</pre></div></div></div></div></div>"
      ],
      "text/plain": [
       "KNeighborsClassifier(n_neighbors=3)"
      ]
     },
     "execution_count": 38,
     "metadata": {},
     "output_type": "execute_result"
    }
   ],
   "source": [
    "clf =  KNeighborsClassifier(n_neighbors=3)\n",
    "\n",
    "clf.fit(x_train, y_train)"
   ]
  },
  {
   "cell_type": "code",
   "execution_count": 39,
   "id": "e194dca8",
   "metadata": {},
   "outputs": [
    {
     "name": "stdout",
     "output_type": "stream",
     "text": [
      "테스트 세트 예측: [1 0 1 0 1 0 0]\n"
     ]
    }
   ],
   "source": [
    "print(f'테스트 세트 예측: {clf.predict(x_test)}')"
   ]
  },
  {
   "cell_type": "code",
   "execution_count": 41,
   "id": "6aa7409f",
   "metadata": {},
   "outputs": [
    {
     "name": "stdout",
     "output_type": "stream",
     "text": [
      "테스트 세트 정확도: 0.86\n"
     ]
    }
   ],
   "source": [
    "print(f'테스트 세트 정확도: {clf.score(x_test, y_test):0.2f}')"
   ]
  },
  {
   "cell_type": "markdown",
   "id": "b06fa430",
   "metadata": {},
   "source": [
    "### KNeighborsClassifier 분석\n",
    "\n",
    "- 2차원 데이터 셋이므로 가능한 모든 테스트 포인트의 예측을 xy평면에 그려볼 수 있다.\n",
    "\n",
    "- 그리고 각 데이터 포인트가 속한 클래스에 따라 평면에 색을 칠하면 알고리즘이\n",
    "클래스 0과 1로 지정한 영역에서 나뉘는 결정 경계를 볼 수 있다."
   ]
  },
  {
   "cell_type": "code",
   "execution_count": 45,
   "id": "dfa3cc52",
   "metadata": {},
   "outputs": [
    {
     "data": {
      "text/plain": [
       "<matplotlib.legend.Legend at 0x24e389e4c40>"
      ]
     },
     "execution_count": 45,
     "metadata": {},
     "output_type": "execute_result"
    },
    {
     "data": {
      "image/png": "[encoded data removed]",
      "text/plain": [
       "<Figure size 720x216 with 3 Axes>"
      ]
     },
     "metadata": {},
     "output_type": "display_data"
    }
   ],
   "source": [
    "## subplots 메서드에 행, 열, 크기 순서로 입력\n",
    "fig, axes = plt.subplots(1, 3, figsize=(10, 3))\n",
    "\n",
    "for n_neighbors, ax in zip([1, 3, 9], axes):\n",
    "    \n",
    "    \n",
    "    clf = KNeighborsClassifier(n_neighbors=n_neighbors).fit(X, y)\n",
    "    ## 2차원 데이터셋 분할 평면 그리는 메서드 / 모델, train데이터, 평면칠하기 등 파라미터 들어간다\n",
    "    mglearn.plots.plot_2d_separator(clf, X, fill=True, eps=0.5, ax=ax, alpha=0.4)\n",
    "    mglearn.discrete_scatter(X[:,0], X[:,1], y, ax=ax)\n",
    "    ax.set_title(\"{} 이웃\".format(n_neighbors))\n",
    "    ax.set_xlabel(\"특성 0\")\n",
    "    ax.set_ylabel(\"특성 1\")\n",
    "    \n",
    "axes[0].legend(loc=3)"
   ]
  },
  {
   "cell_type": "markdown",
   "id": "a230a392",
   "metadata": {},
   "source": [
    "### 위의 그림 해석\n",
    "\n",
    "- 이웃을 적게 사용 -> 모델의 복잡도가 높아진다\n",
    "\n",
    "- 이웃을 많이 사용 -> 모델의 복잡도가 낮아진다\n",
    "\n",
    "의문점. 이웃을 많이 사용하면 많은 데이터로 판별하기 때문에 복잡도가 높아지는 것 아닌가?\n",
    "- 오히려 이상값으로 다른 클래스에 영역에 있지만 이것까지도 라벨링된대로 분류하려 하기 때문에 데이터에 대해 모델이 과대적합 될 수 있다. 과대적합 될 경우 복잡도가 높아진다. \n",
    "\n",
    "- 이웃을 여러 개 쓰면 클래스 0이더라도 주변에 1이 많은 경우 1로 판단하기에 결정경계가 완만해진다. 따라서 과대적합이 해소되어 모델의 복잡도가 낮아진다. \n",
    "- 하지만 너무 많은 이웃을 사용할 경우 (ex.전체) 가장 많은 클래스로 모두 분류되므로 과소적합의 우려가 있다. 따라서 적절한 이웃의 수를 정하는 것이 중요하다! "
   ]
  },
  {
   "cell_type": "markdown",
   "id": "b7c526b1",
   "metadata": {},
   "source": [
    "---"
   ]
  },
  {
   "cell_type": "markdown",
   "id": "90652b94",
   "metadata": {},
   "source": [
    "#### 모델의 복잡도와 일반화 사이의 관계 입증"
   ]
  },
  {
   "cell_type": "code",
   "execution_count": 50,
   "id": "ebb38cd6",
   "metadata": {},
   "outputs": [
    {
     "data": {
      "text/plain": [
       "<matplotlib.legend.Legend at 0x24e388ba760>"
      ]
     },
     "execution_count": 50,
     "metadata": {},
     "output_type": "execute_result"
    },
    {
     "data": {
      "image/png": "[encoded data removed]",
      "text/plain": [
       "<Figure size 432x288 with 1 Axes>"
      ]
     },
     "metadata": {
      "needs_background": "light"
     },
     "output_type": "display_data"
    }
   ],
   "source": [
    "cancer = load_breast_cancer()\n",
    "\n",
    "## target 데이터의 클래스간 비율이 일정하지 않아 한쪽에 편향되지 않도록 stratify를 넣어준다.\n",
    "x_train, x_test, y_train, y_test = train_test_split(cancer.data, cancer.target, stratify=cancer.target, random_state=0)\n",
    "\n",
    "training_accuracy = []\n",
    "test_accuracy = []\n",
    "\n",
    "neighbors_settings = range(1, 11)\n",
    "\n",
    "for n_neighbors in neighbors_settings:\n",
    "    # 모델 생성\n",
    "    clf = KNeighborsClassifier(n_neighbors=n_neighbors)\n",
    "    clf.fit(x_train, y_train)\n",
    "    \n",
    "    # 훈련 세트 정확도 저장\n",
    "    training_accuracy.append(clf.score(x_train, y_train))\n",
    "    \n",
    "    # 일반화 정확도 저장\n",
    "    test_accuracy.append(clf.score(x_test, y_test))\n",
    "\n",
    "plt.plot(neighbors_settings, training_accuracy, label='훈련 정확도')\n",
    "plt.plot(neighbors_settings, test_accuracy, label='훈련 정확도')\n",
    "plt.ylabel(\"정확도\")\n",
    "plt.xlabel(\"n_neighbors\")\n",
    "plt.legend()"
   ]
  },
  {
   "cell_type": "markdown",
   "id": "27bc43b9",
   "metadata": {},
   "source": [
    "#### 위의 그래프 해석\n",
    "\n",
    "- 위의 그래프는 n_neighbors의 변화에 따른 훈련 세트와 테스트 세트에 대한 모델의 정확도를 보여준다. \n",
    "\n",
    "- n_neighbors이 낮을 때 훈련 세트의 정확도가 높고 테스트 세트의 정확도가 낮은 것을 보아 모델이 복잡하여 과대적합 되었다는 위의 결정경계 그래프 해석과 동일한 결과를 얻을 수 있었다.\n",
    "\n",
    "- 마찬가지로 n_neighbors가 높아질수록 복잡도가 감소하여 경계가 완만해지고 과소적합 되어 훈련 세트에 대한 정확도가 감소했다.\n",
    "\n",
    "- 또한 n_neighbors를 10개까지 증가시킬 경우 모델이 너무 단순해져 정확도가 감소하는 것을 확인할 수 있었으며 \n",
    "\n",
    "- 중간 정도인 6번째가 정확도가 가장 좋은 것을 보아 결정경계 해석에서 언급했던 적절한 n_neighbors의 수 선정이 반드시 필요함을 입증할 수 있었다."
   ]
  }
 ],
 "metadata": {
  "kernelspec": {
   "display_name": "Python 3.8.0 64-bit",
   "language": "python",
   "name": "python3"
  },
  "language_info": {
   "codemirror_mode": {
    "name": "ipython",
    "version": 3
   },
   "file_extension": ".py",
   "mimetype": "text/x-python",
   "name": "python",
   "nbconvert_exporter": "python",
   "pygments_lexer": "ipython3",
   "version": "3.8.0"
  },
  "vscode": {
   "interpreter": {
    "hash": "c2e55c9285be7209c352033cdce09d8fd6005e5e0666f201e74b15d445dd77cd"
   }
  }
 },
 "nbformat": 4,
 "nbformat_minor": 5
}
